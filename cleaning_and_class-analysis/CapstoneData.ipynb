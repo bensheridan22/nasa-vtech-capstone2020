{
 "cells": [
  {
   "cell_type": "code",
   "execution_count": 2,
   "metadata": {},
   "outputs": [],
   "source": [
    "import h5py\n",
    "import numpy as np\n",
    "import pandas as pd"
   ]
  },
  {
   "cell_type": "code",
   "execution_count": 2,
   "metadata": {},
   "outputs": [],
   "source": [
    "\n",
    "pd.set_option('display.max_columns', None)\n",
    "pd.set_option(\"display.max_rows\", 50)\n"
   ]
  },
  {
   "cell_type": "markdown",
   "metadata": {},
   "source": [
    "Initial import of raw data sets"
   ]
  },
  {
   "cell_type": "code",
   "execution_count": null,
   "metadata": {},
   "outputs": [],
   "source": [
    "#dataframe = pd.read_hdf('data/collected_test_cases.h5')\n",
    "#dataframe2 = pd.read_hdf('data/collected_variance.h5')\n",
    "#dataframe2"
   ]
  },
  {
   "cell_type": "markdown",
   "metadata": {},
   "source": [
    "Merge the input/output datasets"
   ]
  },
  {
   "cell_type": "code",
   "execution_count": 1,
   "metadata": {},
   "outputs": [],
   "source": [
    "#merged_df1 = dataframe.reset_index().join(dataframe2,on=['number of models','file name', 'sample_index']).set_index(dataframe.index.names)"
   ]
  },
  {
   "cell_type": "markdown",
   "metadata": {},
   "source": [
    "Separate the main merged dataframe into subsets based on model number"
   ]
  },
  {
   "cell_type": "code",
   "execution_count": 2,
   "metadata": {},
   "outputs": [],
   "source": [
    "#models_2 = merged_df1.loc[[i for i in dataframe.index if i[0] == 2]]\n",
    "\n",
    "#models_3 = merged_df1.loc[[i for i in dataframe.index if i[0] == 3]]\n",
    "\n",
    "#models_4 = merged_df1.loc[[i for i in dataframe.index if i[0] == 4]]\n",
    "\n",
    "#models_5 = merged_df1.loc[[i for i in dataframe.index if i[0] == 5]]\n",
    "\n",
    "#models_6 = merged_df1.loc[[i for i in dataframe.index if i[0] == 6]]"
   ]
  },
  {
   "cell_type": "markdown",
   "metadata": {},
   "source": [
    "Reset indices to just include the full model scenarios"
   ]
  },
  {
   "cell_type": "code",
   "execution_count": 3,
   "metadata": {},
   "outputs": [],
   "source": [
    "#models_2 = models_2.reset_index(level=0, drop=True).reset_index(level=0, drop=True).reset_index(drop=True)\n",
    "#models_3 = models_3.reset_index(level=0, drop=True).reset_index(level=0, drop=True).reset_index(drop=True)\n",
    "#models_4 = models_4.reset_index(level=0, drop=True).reset_index(level=0, drop=True).reset_index(drop=True)\n",
    "#models_5 = models_5.reset_index(level=0, drop=True).reset_index(level=0, drop=True).reset_index(drop=True)\n",
    "#models_6 = models_6.reset_index(level=0, drop=True).reset_index(level=0, drop=True).reset_index(drop=True)"
   ]
  },
  {
   "cell_type": "markdown",
   "metadata": {},
   "source": [
    "Save to file"
   ]
  },
  {
   "cell_type": "code",
   "execution_count": null,
   "metadata": {},
   "outputs": [],
   "source": [
    "#models_2.to_csv(\"/Users/bensheridan/Documents/Senior/CMDACapstone/data/twoModelScenario.csv\")\n",
    "\n",
    "#models_3.to_csv(\"/Users/bensheridan/Documents/Senior/CMDACapstone/data/threeModelScenario.csv\")\n",
    "\n",
    "#models_4.to_csv(\"/Users/bensheridan/Documents/Senior/CMDACapstone/data/fourModelScenario.csv\")\n",
    "\n",
    "#models_5.to_csv(\"/Users/bensheridan/Documents/Senior/CMDACapstone/data/fiveModelScenario.csv\")\n",
    "\n",
    "#models_6.to_csv(\"/Users/bensheridan/Documents/Senior/CMDACapstone/data/sixModelScenario.csv\")"
   ]
  },
  {
   "cell_type": "code",
   "execution_count": null,
   "metadata": {},
   "outputs": [],
   "source": [
    "#models_2 = pd.read_csv(\"/Users/bensheridan/Documents/Senior/CMDACapstone/data/twoModelScenario.csv\")"
   ]
  },
  {
   "cell_type": "code",
   "execution_count": null,
   "metadata": {},
   "outputs": [],
   "source": [
    "#models_2.head()"
   ]
  },
  {
   "cell_type": "code",
   "execution_count": 4,
   "metadata": {},
   "outputs": [],
   "source": [
    "#\"cov_00\", \"cov_01\", \"cov_02\", \"cov_03\",\"cov_04\",\"cov_05\",\"cov_11\",\"cov_12\",\"cov_13\",\"cov_14\",\"cov_15\",\"cov_22\",\"cov_23\",\"cov_24\",\"cov_25\",\"cov_33\",\"cov_34\", \"cov_35\", \"cov_44\", \"cov_45\", \"cov_55\""
   ]
  },
  {
   "cell_type": "markdown",
   "metadata": {},
   "source": [
    "# End cleaning, begin grouping"
   ]
  },
  {
   "cell_type": "code",
   "execution_count": 1,
   "metadata": {},
   "outputs": [],
   "source": [
    "import numpy as np \n",
    "import pandas as pd \n",
    "import matplotlib.pyplot as plt \n",
    "import seaborn as sns\n",
    "\n",
    "models_2 = pd.read_csv(\"/Users/bensheridan/Downloads/twoModelScenario.csv\")\n",
    "models_3 = pd.read_csv(\"/Users/bensheridan/Downloads/threeModelScenario.csv\")\n",
    "models_4 = pd.read_csv(\"/Users/bensheridan/Downloads/fourModelScenario.csv\")\n",
    "models_5 = pd.read_csv(\"/Users/bensheridan/Downloads/fiveModelScenario.csv\")\n",
    "models_6 = pd.read_csv(\"/Users/bensheridan/Downloads/sixModelScenario.csv\")"
   ]
  },
  {
   "cell_type": "markdown",
   "metadata": {},
   "source": [
    "Lists of each class of algorithms and sampling strategy for grouping"
   ]
  },
  {
   "cell_type": "code",
   "execution_count": 2,
   "metadata": {},
   "outputs": [],
   "source": [
    "\n",
    "## By Class\n",
    "mc_alg = [\"model_cost_0\", \"model_cost_1\", \"model_cost_2\", \"model_cost_3\", \n",
    "          \"model_cost_4\", \"model_cost_5\", \"cov_00\", \"cov_01\", \"cov_02\", \"cov_03\",\n",
    "          \"cov_04\",\"cov_05\",\"cov_11\",\"cov_12\",\"cov_13\", \"cov_14\",\"cov_15\",\"cov_22\",\n",
    "          \"cov_23\",\"cov_24\",\"cov_25\",\"cov_33\",\"cov_34\", \"cov_35\", \"cov_44\", \"cov_45\", \n",
    "          \"cov_55\", \"mlmc\", 'mfmc']\n",
    "acv_alg = [\"model_cost_0\", \"model_cost_1\", \"model_cost_2\", \"model_cost_3\", \n",
    "           \"model_cost_4\", \"model_cost_5\", \"cov_00\", \"cov_01\", \"cov_02\", \"cov_03\",\n",
    "           \"cov_04\",\"cov_05\",\"cov_11\",\"cov_12\",\"cov_13\",\"cov_14\",\"cov_15\",\"cov_22\",\n",
    "           \"cov_23\",\"cov_24\",\"cov_25\",\"cov_33\",\"cov_34\", \"cov_35\", \"cov_44\", \"cov_45\", \n",
    "           \"cov_55\", 'acvis', 'acvmf','acvkl','wrdiff']\n",
    "\n",
    "pacv_alg = [\"model_cost_0\", \"model_cost_1\", \"model_cost_2\", \"model_cost_3\", \n",
    "            \"model_cost_4\", \"model_cost_5\", \"cov_00\", \"cov_01\", \"cov_02\", \"cov_03\",\n",
    "            \"cov_04\",\"cov_05\",\"cov_11\",\"cov_12\",\"cov_13\", \"cov_14\",\"cov_15\",\"cov_22\",\n",
    "            \"cov_23\",\"cov_24\",\"cov_25\",\"cov_33\",\"cov_34\", \"cov_35\", \"cov_44\", \n",
    "            \"cov_45\", \"cov_55\", 'grdsr','grdmr','gissr','gismr','acvmfu',\n",
    "            'gmfsr','gmfmr']\n",
    "\n",
    "\n",
    "## By sampling strategy\n",
    "rec_alg = [\"model_cost_0\", \"model_cost_1\", \"model_cost_2\", \"model_cost_3\", \n",
    "          \"model_cost_4\", \"model_cost_5\", \"cov_00\", \"cov_01\", \"cov_02\", \"cov_03\",\n",
    "          \"cov_04\",\"cov_05\",\"cov_11\",\"cov_12\",\"cov_13\", \"cov_14\",\"cov_15\",\"cov_22\",\n",
    "          \"cov_23\",\"cov_24\",\"cov_25\",\"cov_33\",\"cov_34\", \"cov_35\", \"cov_44\", \"cov_45\", \n",
    "          \"cov_55\", \"mlmc\", 'wrdiff', 'grdsr','grdmr']\n",
    "ind_alg = [\"model_cost_0\", \"model_cost_1\", \"model_cost_2\", \"model_cost_3\", \n",
    "           \"model_cost_4\", \"model_cost_5\", \"cov_00\", \"cov_01\", \"cov_02\", \"cov_03\",\n",
    "           \"cov_04\",\"cov_05\",\"cov_11\",\"cov_12\",\"cov_13\",\"cov_14\",\"cov_15\",\"cov_22\",\n",
    "           \"cov_23\",\"cov_24\",\"cov_25\",\"cov_33\",\"cov_34\", \"cov_35\", \"cov_44\", \"cov_45\", \n",
    "           \"cov_55\", 'acvis', 'gissr','gismr']\n",
    "\n",
    "unorder_multi_alg = [\"model_cost_0\", \"model_cost_1\", \"model_cost_2\", \"model_cost_3\", \n",
    "            \"model_cost_4\", \"model_cost_5\", \"cov_00\", \"cov_01\", \"cov_02\", \"cov_03\",\n",
    "            \"cov_04\",\"cov_05\",\"cov_11\",\"cov_12\",\"cov_13\", \"cov_14\",\"cov_15\",\"cov_22\",\n",
    "            \"cov_23\",\"cov_24\",\"cov_25\",\"cov_33\",\"cov_34\", \"cov_35\", \"cov_44\", \n",
    "            \"cov_45\", \"cov_55\", 'acvmfu', 'gmfsr','gmfmr']\n",
    "\n",
    "order_multi_alg = [\"model_cost_0\", \"model_cost_1\", \"model_cost_2\", \"model_cost_3\", \n",
    "            \"model_cost_4\", \"model_cost_5\", \"cov_00\", \"cov_01\", \"cov_02\", \"cov_03\",\n",
    "            \"cov_04\",\"cov_05\",\"cov_11\",\"cov_12\",\"cov_13\", \"cov_14\",\"cov_15\",\"cov_22\",\n",
    "            \"cov_23\",\"cov_24\",\"cov_25\",\"cov_33\",\"cov_34\", \"cov_35\", \"cov_44\", \n",
    "            \"cov_45\", \"cov_55\", 'mfmc','acvmf','acvkl']\n",
    "\n",
    "########## AMS \n",
    "\n",
    "\n",
    "# Algorithm with AMS\n",
    "ams_mc_alg = [\"model_cost_0\", \"model_cost_1\", \"model_cost_2\", \"model_cost_3\", \n",
    "          \"model_cost_4\", \"model_cost_5\", \"cov_00\", \"cov_01\", \"cov_02\", \"cov_03\",\n",
    "          \"cov_04\",\"cov_05\",\"cov_11\",\"cov_12\",\"cov_13\", \"cov_14\",\"cov_15\",\"cov_22\",\n",
    "          \"cov_23\",\"cov_24\",\"cov_25\",\"cov_33\",\"cov_34\", \"cov_35\", \"cov_44\", \"cov_45\", \n",
    "          \"cov_55\", \"mlmc ams\", 'mfmc ams']\n",
    "ams_acv_alg = [\"model_cost_0\", \"model_cost_1\", \"model_cost_2\", \"model_cost_3\", \n",
    "           \"model_cost_4\", \"model_cost_5\", \"cov_00\", \"cov_01\", \"cov_02\", \"cov_03\",\n",
    "           \"cov_04\",\"cov_05\",\"cov_11\",\"cov_12\",\"cov_13\",\"cov_14\",\"cov_15\",\"cov_22\",\n",
    "           \"cov_23\",\"cov_24\",\"cov_25\",\"cov_33\",\"cov_34\", \"cov_35\", \"cov_44\", \"cov_45\", \n",
    "           \"cov_55\", 'acvis ams', 'acvmf ams','acvkl ams','wrdiff ams']\n",
    "\n",
    "ams_pacv_alg = [\"model_cost_0\", \"model_cost_1\", \"model_cost_2\", \"model_cost_3\", \n",
    "            \"model_cost_4\", \"model_cost_5\", \"cov_00\", \"cov_01\", \"cov_02\", \"cov_03\",\n",
    "            \"cov_04\",\"cov_05\",\"cov_11\",\"cov_12\",\"cov_13\", \"cov_14\",\"cov_15\",\"cov_22\",\n",
    "            \"cov_23\",\"cov_24\",\"cov_25\",\"cov_33\",\"cov_34\", \"cov_35\", \"cov_44\", \n",
    "            \"cov_45\", \"cov_55\", 'grdsr ams','grdmr ams','gissr ams','gismr ams',\n",
    "            'acvmfu ams','gmfsr ams','gmfmr ams']"
   ]
  },
  {
   "cell_type": "code",
   "execution_count": 3,
   "metadata": {},
   "outputs": [],
   "source": [
    "sampling_strat_dict = {\"mlmc\":'recursive', 'wrdiff':'recursive', 'grdsr':'recursive',\n",
    "                       'grdmr':'recursive', 'acvis':'independent', 'gissr':'independent',\n",
    "                       'gismr':'independent', 'acvmfu':'unordered multi', 'gmfsr':'unordered multi',\n",
    "                       'gmfmr':'unordered multi', 'mfmc':'ordered multi','acvmf':'ordered multi',\n",
    "                       'acvkl':'ordered multi'}\n",
    "\n",
    "class_dict = {\"mlmc\":\"monte carlo\", 'mfmc':\"monte carlo\", 'acvis':'acv', 'acvmf':'acv',\n",
    "              'acvkl':'acv','wrdiff':'acv', 'grdsr':'param acv','grdmr':'param acv',\n",
    "              'gissr':'param acv','gismr':'param acv','acvmfu':'param acv', 'gmfsr':'param acv',\n",
    "              'gmfmr':'param acv'}\n",
    "\n",
    "ams_class_dict = {\"mlmc ams\":\"monte carlo\", 'mfmc ams':\"monte carlo\", 'acvis ams':'acv',\n",
    "                  'acvmf ams':'acv','acvkl ams':'acv','wrdiff ams':'acv', 'grdsr ams':'param acv',\n",
    "                  'grdmr ams':'param acv', 'gissr ams':'param acv','gismr ams':'param acv','acvmfu ams':'param acv', \n",
    "                  'gmfsr ams':'param acv', 'gmfmr ams':'param acv'}"
   ]
  },
  {
   "cell_type": "markdown",
   "metadata": {},
   "source": [
    "Each model case needs it's own subsection of classes"
   ]
  },
  {
   "cell_type": "code",
   "execution_count": 4,
   "metadata": {},
   "outputs": [],
   "source": [
    "# Monte Carlo Alg\n",
    "# ACV Alg\n",
    "# Parametrically-defined ACV Alg\n",
    "\n",
    "monte_carlo_alg2 = models_2[mc_alg]\n",
    "approx_control_var_alg2 = models_2[acv_alg]\n",
    "parametric_acv_alg2 = models_2[pacv_alg]\n",
    "\n",
    "monte_carlo_alg3 = models_3[mc_alg]\n",
    "approx_control_var_alg3 = models_3[acv_alg]\n",
    "parametric_acv_alg3 = models_3[pacv_alg]\n",
    "\n",
    "monte_carlo_alg4 = models_4[mc_alg]\n",
    "approx_control_var_alg4 = models_4[acv_alg]\n",
    "parametric_acv_alg4 = models_4[pacv_alg]\n",
    "\n",
    "monte_carlo_alg5 = models_5[mc_alg]\n",
    "approx_control_var_alg5 = models_5[acv_alg]\n",
    "parametric_acv_alg5 = models_5[pacv_alg]\n",
    "\n",
    "monte_carlo_alg6 = models_6[mc_alg]\n",
    "approx_control_var_alg6 = models_6[acv_alg]\n",
    "parametric_acv_alg6 = models_6[pacv_alg]\n",
    "\n",
    "\n",
    "# Monte Carlo Alg AMS\n",
    "# ACV Alg AMS\n",
    "# Parametrically-defined ACV Alg AMS\n",
    "\n",
    "monte_carlo_alg2_ams = models_2[ams_mc_alg]\n",
    "approx_control_var_alg2_ams = models_2[ams_acv_alg]\n",
    "parametric_acv_alg2_ams = models_2[ams_pacv_alg]\n",
    "\n",
    "monte_carlo_alg3_ams = models_3[ams_mc_alg]\n",
    "approx_control_var_alg3_ams = models_3[ams_acv_alg]\n",
    "parametric_acv_alg3_ams = models_3[ams_pacv_alg]\n",
    "\n",
    "monte_carlo_alg4_ams = models_4[ams_mc_alg]\n",
    "approx_control_var_alg4_ams = models_4[ams_acv_alg]\n",
    "parametric_acv_alg4_ams = models_4[ams_pacv_alg]\n",
    "\n",
    "monte_carlo_alg5_ams = models_5[ams_mc_alg]\n",
    "approx_control_var_alg5_ams = models_5[ams_acv_alg]\n",
    "parametric_acv_alg5_ams = models_5[ams_pacv_alg]\n",
    "\n",
    "monte_carlo_alg6 = models_6[ams_mc_alg]\n",
    "approx_control_var_alg6 = models_6[ams_acv_alg]\n",
    "parametric_acv_alg6 = models_6[ams_pacv_alg]\n",
    "\n",
    "# Recursive Difference ALg sort by GRDMR\n",
    "# Independent Samples Alg sort by GISMR\n",
    "# Multifidelity Alg sort by ACVKL and GMFMR\n",
    "\n",
    "recur_diff_alg2 = models_2[rec_alg]\n",
    "ind_samp_alg2 = models_2[ind_alg]\n",
    "order_multifidel_alg2 = models_2[order_multi_alg]\n",
    "unorder_multifidel_alg2 = models_2[unorder_multi_alg]\n",
    "\n",
    "recur_diff_alg3 = models_3[rec_alg]\n",
    "ind_samp_alg3 = models_3[ind_alg]\n",
    "order_multifidel_alg3 = models_3[order_multi_alg]\n",
    "unorder_multifidel_alg3 = models_3[unorder_multi_alg]\n",
    "\n",
    "recur_diff_alg4 = models_4[rec_alg]\n",
    "ind_samp_alg4 = models_4[ind_alg]\n",
    "order_multifidel_alg4 = models_4[order_multi_alg]\n",
    "unorder_multifidel_alg4 = models_4[unorder_multi_alg]\n",
    "\n",
    "recur_diff_alg5 = models_5[rec_alg]\n",
    "ind_samp_alg5 = models_5[ind_alg]\n",
    "order_multifidel_alg5 = models_5[order_multi_alg]\n",
    "unorder_multifidel_alg5 = models_5[unorder_multi_alg]\n",
    "\n",
    "recur_diff_alg6 = models_6[rec_alg]\n",
    "ind_samp_alg6 = models_6[ind_alg]\n",
    "order_multifidel_alg6 = models_6[order_multi_alg]\n",
    "unorder_multifidel_alg6 = models_6[unorder_multi_alg]"
   ]
  },
  {
   "cell_type": "code",
   "execution_count": 10,
   "metadata": {},
   "outputs": [],
   "source": [
    "# I want to iterate through each observation = scenario per number of models\n",
    "# PERCENTAGE OF MODEL SCENARIOS WHERE BEST\n",
    "## base it on Average model cost?? \n",
    "###### average model variance?\n",
    "\n",
    "list_2model = []\n",
    "list_3model = []\n",
    "list_4model = []\n",
    "list_5model = [] \n",
    "list_6model = []\n",
    "\n",
    "current_df2 = models_2[[\"mlmc\", 'wrdiff', 'grdsr','grdmr', 'acvis', 'gissr','gismr',\n",
    "                           'acvmfu', 'gmfsr','gmfmr', 'mfmc','acvmf','acvkl']]\n",
    "current_df3 = models_3[[\"mlmc\", 'wrdiff', 'grdsr','grdmr', 'acvis', 'gissr','gismr',\n",
    "                           'acvmfu', 'gmfsr','gmfmr', 'mfmc','acvmf','acvkl']]\n",
    "current_df4 = models_4[[\"mlmc\", 'wrdiff', 'grdsr','grdmr', 'acvis', 'gissr','gismr',\n",
    "                           'acvmfu', 'gmfsr','gmfmr', 'mfmc','acvmf','acvkl']]\n",
    "current_df5 = models_5[[\"mlmc\", 'wrdiff', 'grdsr','grdmr', 'acvis', 'gissr','gismr',\n",
    "                           'acvmfu', 'gmfsr','gmfmr', 'mfmc','acvmf','acvkl']]\n",
    "current_df6 = models_6[[\"mlmc\", 'wrdiff', 'grdsr','grdmr', 'acvis', 'gissr','gismr',\n",
    "                           'acvmfu', 'gmfsr','gmfmr', 'mfmc','acvmf','acvkl']]\n",
    "#for i in range(0, len(models_2)):\n",
    "    #print(i)\n",
    "    \n",
    "    \n",
    "#    current_row_algs = current_df.iloc[i, :]\n",
    "#    best_performance = current_row_algs.idxmin()\n",
    "#    best_class = class_dict.get(best_performance)\n",
    "#    list_2model.append(best_class)"
   ]
  },
  {
   "cell_type": "markdown",
   "metadata": {},
   "source": [
    "Iterate through each observation and tally which obs had the best class"
   ]
  },
  {
   "cell_type": "code",
   "execution_count": 11,
   "metadata": {},
   "outputs": [],
   "source": [
    "#%%timeit\n",
    "for index, row in current_df2.iterrows():\n",
    "    #print(row.idxmin())\n",
    "    best_class = class_dict.get(row.idxmin())\n",
    "    #print(best_class)\n",
    "    list_2model.append(best_class)"
   ]
  },
  {
   "cell_type": "code",
   "execution_count": 12,
   "metadata": {},
   "outputs": [],
   "source": [
    "for index, row in current_df3.iterrows():\n",
    "    \n",
    "    best_class = class_dict.get(row.idxmin())\n",
    "    list_3model.append(best_class)"
   ]
  },
  {
   "cell_type": "code",
   "execution_count": 13,
   "metadata": {},
   "outputs": [],
   "source": [
    "for index, row in current_df4.iterrows():\n",
    "    #print(row.idxmin())\n",
    "    best_class = class_dict.get(row.idxmin())\n",
    "    #print(best_class)\n",
    "    list_4model.append(best_class)"
   ]
  },
  {
   "cell_type": "code",
   "execution_count": 14,
   "metadata": {},
   "outputs": [],
   "source": [
    "for index, row in current_df5.iterrows():\n",
    "    #print(row.idxmin())\n",
    "    best_class = class_dict.get(row.idxmin())\n",
    "    #print(best_class)\n",
    "    list_5model.append(best_class)"
   ]
  },
  {
   "cell_type": "code",
   "execution_count": 15,
   "metadata": {},
   "outputs": [],
   "source": [
    "for index, row in current_df6.iterrows():\n",
    "    #print(row.idxmin())\n",
    "    best_class = class_dict.get(row.idxmin())\n",
    "    #print(best_class)\n",
    "    list_6model.append(best_class)"
   ]
  },
  {
   "cell_type": "code",
   "execution_count": null,
   "metadata": {},
   "outputs": [],
   "source": []
  },
  {
   "cell_type": "markdown",
   "metadata": {},
   "source": [
    "count frequency of the best classes"
   ]
  },
  {
   "cell_type": "code",
   "execution_count": 16,
   "metadata": {},
   "outputs": [],
   "source": [
    "def CountFrequency(my_list): \n",
    "  \n",
    "    # Creating an empty dictionary  \n",
    "    freq = {} \n",
    "    for item in my_list: \n",
    "        if (item in freq): \n",
    "            freq[item] += 1\n",
    "        else: \n",
    "            freq[item] = 1\n",
    "    return freq"
   ]
  },
  {
   "cell_type": "code",
   "execution_count": 17,
   "metadata": {},
   "outputs": [],
   "source": [
    "twoModelFreq = CountFrequency(list_2model)"
   ]
  },
  {
   "cell_type": "code",
   "execution_count": 19,
   "metadata": {},
   "outputs": [],
   "source": [
    "threeModelFreq = CountFrequency(list_3model)"
   ]
  },
  {
   "cell_type": "code",
   "execution_count": 20,
   "metadata": {},
   "outputs": [],
   "source": [
    "fourModelFreq = CountFrequency(list_4model)"
   ]
  },
  {
   "cell_type": "code",
   "execution_count": 21,
   "metadata": {},
   "outputs": [],
   "source": [
    "fiveModelFreq = CountFrequency(list_5model)\n",
    "fiveModelFreq['monte carlo'] = 0"
   ]
  },
  {
   "cell_type": "code",
   "execution_count": 22,
   "metadata": {},
   "outputs": [],
   "source": [
    "sixModelFreq = CountFrequency(list_6model)\n",
    "sixModelFreq['monte carlo'] = 0"
   ]
  },
  {
   "cell_type": "markdown",
   "metadata": {},
   "source": [
    "Calculate percentage"
   ]
  },
  {
   "cell_type": "code",
   "execution_count": 23,
   "metadata": {},
   "outputs": [],
   "source": [
    "for k in twoModelFreq:\n",
    "    twoModelFreq[k] = twoModelFreq[k] / len(list_2model)"
   ]
  },
  {
   "cell_type": "code",
   "execution_count": 24,
   "metadata": {},
   "outputs": [],
   "source": [
    "for k in threeModelFreq:\n",
    "    threeModelFreq[k] = threeModelFreq[k] / len(list_3model)"
   ]
  },
  {
   "cell_type": "code",
   "execution_count": 25,
   "metadata": {},
   "outputs": [],
   "source": [
    "for k in fourModelFreq:\n",
    "    fourModelFreq[k] = fourModelFreq[k] / len(list_4model)"
   ]
  },
  {
   "cell_type": "code",
   "execution_count": 26,
   "metadata": {},
   "outputs": [],
   "source": [
    "for k in fiveModelFreq:\n",
    "    fiveModelFreq[k] = fiveModelFreq[k] / len(list_5model)"
   ]
  },
  {
   "cell_type": "code",
   "execution_count": 27,
   "metadata": {},
   "outputs": [],
   "source": [
    "for k in sixModelFreq:\n",
    "    sixModelFreq[k] = sixModelFreq[k] / len(list_6model)"
   ]
  },
  {
   "cell_type": "code",
   "execution_count": 28,
   "metadata": {},
   "outputs": [],
   "source": [
    "desired_order_list = ['acv', 'param acv', 'monte carlo']\n",
    "\n",
    "twoModelFreq = {k: twoModelFreq[k] for k in desired_order_list}\n",
    "threeModelFreq = {k: threeModelFreq[k] for k in desired_order_list}\n",
    "fourModelFreq = {k: fourModelFreq[k] for k in desired_order_list}\n",
    "fiveModelFreq = {k: fiveModelFreq[k] for k in desired_order_list}\n",
    "sixModelFreq = {k: sixModelFreq[k] for k in desired_order_list}"
   ]
  },
  {
   "cell_type": "code",
   "execution_count": 29,
   "metadata": {},
   "outputs": [
    {
     "data": {
      "text/plain": [
       "{'acv': 0.4100872549019608,\n",
       " 'param acv': 0.42277450980392156,\n",
       " 'monte carlo': 0.16713823529411764}"
      ]
     },
     "execution_count": 29,
     "metadata": {},
     "output_type": "execute_result"
    }
   ],
   "source": [
    "twoModelFreq"
   ]
  },
  {
   "cell_type": "code",
   "execution_count": 30,
   "metadata": {},
   "outputs": [],
   "source": [
    "model2col = [twoModelFreq[k] for k in twoModelFreq]\n",
    "model3col = [threeModelFreq[k] for k in threeModelFreq]\n",
    "model4col = [fourModelFreq[k] for k in fourModelFreq]\n",
    "model5col = [fiveModelFreq[k] for k in fiveModelFreq]\n",
    "model6col = [sixModelFreq[k] for k in sixModelFreq]\n",
    "classes = [k for k in sixModelFreq]"
   ]
  },
  {
   "cell_type": "code",
   "execution_count": 3,
   "metadata": {},
   "outputs": [],
   "source": [
    "class_freq_df = pd.DataFrame({'Class':classes, '2models':model2col, '3models':model3col, \n",
    "              '4models':model4col, '5models':model5col, '6models':model6col})\n",
    "\n"
   ]
  },
  {
   "cell_type": "code",
   "execution_count": 4,
   "metadata": {},
   "outputs": [],
   "source": [
    "class_freq_df= class_freq_df.T"
   ]
  },
  {
   "cell_type": "code",
   "execution_count": 5,
   "metadata": {},
   "outputs": [],
   "source": [
    "class_freq_df['Models'] = ['Models',2,3,4,5,6]"
   ]
  },
  {
   "cell_type": "code",
   "execution_count": 6,
   "metadata": {
    "collapsed": true
   },
   "outputs": [
    {
     "ename": "ValueError",
     "evalue": "Length mismatch: Expected axis has 1 elements, new values have 4 elements",
     "output_type": "error",
     "traceback": [
      "\u001b[0;31m---------------------------------------------------------------------------\u001b[0m",
      "\u001b[0;31mValueError\u001b[0m                                Traceback (most recent call last)",
      "\u001b[0;32m<ipython-input-6-bcc2096e9fb9>\u001b[0m in \u001b[0;36m<module>\u001b[0;34m()\u001b[0m\n\u001b[1;32m      2\u001b[0m \u001b[0mclass_freq_df\u001b[0m \u001b[0;34m=\u001b[0m \u001b[0mclass_freq_df\u001b[0m\u001b[0;34m[\u001b[0m\u001b[0;36m1\u001b[0m\u001b[0;34m:\u001b[0m\u001b[0;34m]\u001b[0m\u001b[0;34m\u001b[0m\u001b[0;34m\u001b[0m\u001b[0m\n\u001b[1;32m      3\u001b[0m \u001b[0mclass_freq_df\u001b[0m\u001b[0;34m.\u001b[0m\u001b[0mcolumns\u001b[0m \u001b[0;34m=\u001b[0m \u001b[0mnew_header\u001b[0m\u001b[0;34m\u001b[0m\u001b[0;34m\u001b[0m\u001b[0m\n\u001b[0;32m----> 4\u001b[0;31m \u001b[0mclass_freq_df\u001b[0m\u001b[0;34m.\u001b[0m\u001b[0mcolumns\u001b[0m \u001b[0;34m=\u001b[0m \u001b[0;34m[\u001b[0m\u001b[0;34m'acv'\u001b[0m\u001b[0;34m,\u001b[0m \u001b[0;34m'param_acv'\u001b[0m\u001b[0;34m,\u001b[0m \u001b[0;34m'monte_carlo'\u001b[0m\u001b[0;34m,\u001b[0m \u001b[0;34m'Models'\u001b[0m\u001b[0;34m]\u001b[0m\u001b[0;34m\u001b[0m\u001b[0;34m\u001b[0m\u001b[0m\n\u001b[0m",
      "\u001b[0;32m~/anaconda3/lib/python3.6/site-packages/pandas/core/generic.py\u001b[0m in \u001b[0;36m__setattr__\u001b[0;34m(self, name, value)\u001b[0m\n\u001b[1;32m   5285\u001b[0m         \u001b[0;32mtry\u001b[0m\u001b[0;34m:\u001b[0m\u001b[0;34m\u001b[0m\u001b[0;34m\u001b[0m\u001b[0m\n\u001b[1;32m   5286\u001b[0m             \u001b[0mobject\u001b[0m\u001b[0;34m.\u001b[0m\u001b[0m__getattribute__\u001b[0m\u001b[0;34m(\u001b[0m\u001b[0mself\u001b[0m\u001b[0;34m,\u001b[0m \u001b[0mname\u001b[0m\u001b[0;34m)\u001b[0m\u001b[0;34m\u001b[0m\u001b[0;34m\u001b[0m\u001b[0m\n\u001b[0;32m-> 5287\u001b[0;31m             \u001b[0;32mreturn\u001b[0m \u001b[0mobject\u001b[0m\u001b[0;34m.\u001b[0m\u001b[0m__setattr__\u001b[0m\u001b[0;34m(\u001b[0m\u001b[0mself\u001b[0m\u001b[0;34m,\u001b[0m \u001b[0mname\u001b[0m\u001b[0;34m,\u001b[0m \u001b[0mvalue\u001b[0m\u001b[0;34m)\u001b[0m\u001b[0;34m\u001b[0m\u001b[0;34m\u001b[0m\u001b[0m\n\u001b[0m\u001b[1;32m   5288\u001b[0m         \u001b[0;32mexcept\u001b[0m \u001b[0mAttributeError\u001b[0m\u001b[0;34m:\u001b[0m\u001b[0;34m\u001b[0m\u001b[0;34m\u001b[0m\u001b[0m\n\u001b[1;32m   5289\u001b[0m             \u001b[0;32mpass\u001b[0m\u001b[0;34m\u001b[0m\u001b[0;34m\u001b[0m\u001b[0m\n",
      "\u001b[0;32mpandas/_libs/properties.pyx\u001b[0m in \u001b[0;36mpandas._libs.properties.AxisProperty.__set__\u001b[0;34m()\u001b[0m\n",
      "\u001b[0;32m~/anaconda3/lib/python3.6/site-packages/pandas/core/generic.py\u001b[0m in \u001b[0;36m_set_axis\u001b[0;34m(self, axis, labels)\u001b[0m\n\u001b[1;32m    659\u001b[0m \u001b[0;34m\u001b[0m\u001b[0m\n\u001b[1;32m    660\u001b[0m     \u001b[0;32mdef\u001b[0m \u001b[0m_set_axis\u001b[0m\u001b[0;34m(\u001b[0m\u001b[0mself\u001b[0m\u001b[0;34m,\u001b[0m \u001b[0maxis\u001b[0m\u001b[0;34m,\u001b[0m \u001b[0mlabels\u001b[0m\u001b[0;34m)\u001b[0m \u001b[0;34m->\u001b[0m \u001b[0;32mNone\u001b[0m\u001b[0;34m:\u001b[0m\u001b[0;34m\u001b[0m\u001b[0;34m\u001b[0m\u001b[0m\n\u001b[0;32m--> 661\u001b[0;31m         \u001b[0mself\u001b[0m\u001b[0;34m.\u001b[0m\u001b[0m_data\u001b[0m\u001b[0;34m.\u001b[0m\u001b[0mset_axis\u001b[0m\u001b[0;34m(\u001b[0m\u001b[0maxis\u001b[0m\u001b[0;34m,\u001b[0m \u001b[0mlabels\u001b[0m\u001b[0;34m)\u001b[0m\u001b[0;34m\u001b[0m\u001b[0;34m\u001b[0m\u001b[0m\n\u001b[0m\u001b[1;32m    662\u001b[0m         \u001b[0mself\u001b[0m\u001b[0;34m.\u001b[0m\u001b[0m_clear_item_cache\u001b[0m\u001b[0;34m(\u001b[0m\u001b[0;34m)\u001b[0m\u001b[0;34m\u001b[0m\u001b[0;34m\u001b[0m\u001b[0m\n\u001b[1;32m    663\u001b[0m \u001b[0;34m\u001b[0m\u001b[0m\n",
      "\u001b[0;32m~/anaconda3/lib/python3.6/site-packages/pandas/core/internals/managers.py\u001b[0m in \u001b[0;36mset_axis\u001b[0;34m(self, axis, new_labels)\u001b[0m\n\u001b[1;32m    176\u001b[0m         \u001b[0;32mif\u001b[0m \u001b[0mnew_len\u001b[0m \u001b[0;34m!=\u001b[0m \u001b[0mold_len\u001b[0m\u001b[0;34m:\u001b[0m\u001b[0;34m\u001b[0m\u001b[0;34m\u001b[0m\u001b[0m\n\u001b[1;32m    177\u001b[0m             raise ValueError(\n\u001b[0;32m--> 178\u001b[0;31m                 \u001b[0;34mf\"Length mismatch: Expected axis has {old_len} elements, new \"\u001b[0m\u001b[0;34m\u001b[0m\u001b[0;34m\u001b[0m\u001b[0m\n\u001b[0m\u001b[1;32m    179\u001b[0m                 \u001b[0;34mf\"values have {new_len} elements\"\u001b[0m\u001b[0;34m\u001b[0m\u001b[0;34m\u001b[0m\u001b[0m\n\u001b[1;32m    180\u001b[0m             )\n",
      "\u001b[0;31mValueError\u001b[0m: Length mismatch: Expected axis has 1 elements, new values have 4 elements"
     ]
    }
   ],
   "source": [
    "new_header = class_freq_df.iloc[0]\n",
    "class_freq_df = class_freq_df[1:]\n",
    "class_freq_df.columns = new_header\n",
    "class_freq_df.columns = ['acv', 'param_acv', 'monte_carlo', 'Models']"
   ]
  },
  {
   "cell_type": "code",
   "execution_count": 9,
   "metadata": {},
   "outputs": [],
   "source": [
    "class_freq_df"
   ]
  },
  {
   "cell_type": "code",
   "execution_count": 10,
   "metadata": {
    "collapsed": true
   },
   "outputs": [
    {
     "ename": "AttributeError",
     "evalue": "'DataFrame' object has no attribute 'acv'",
     "output_type": "error",
     "traceback": [
      "\u001b[0;31m---------------------------------------------------------------------------\u001b[0m",
      "\u001b[0;31mAttributeError\u001b[0m                            Traceback (most recent call last)",
      "\u001b[0;32m<ipython-input-10-483065c2ae0e>\u001b[0m in \u001b[0;36m<module>\u001b[0;34m()\u001b[0m\n\u001b[1;32m      1\u001b[0m \u001b[0mplt\u001b[0m\u001b[0;34m.\u001b[0m\u001b[0mfigure\u001b[0m\u001b[0;34m(\u001b[0m\u001b[0mfigsize\u001b[0m\u001b[0;34m=\u001b[0m\u001b[0;34m(\u001b[0m\u001b[0;36m9\u001b[0m\u001b[0;34m,\u001b[0m\u001b[0;36m8\u001b[0m\u001b[0;34m)\u001b[0m\u001b[0;34m)\u001b[0m\u001b[0;34m\u001b[0m\u001b[0;34m\u001b[0m\u001b[0m\n\u001b[0;32m----> 2\u001b[0;31m \u001b[0mplt\u001b[0m\u001b[0;34m.\u001b[0m\u001b[0mplot\u001b[0m\u001b[0;34m(\u001b[0m\u001b[0mclass_freq_df\u001b[0m\u001b[0;34m.\u001b[0m\u001b[0mModels\u001b[0m\u001b[0;34m,\u001b[0m \u001b[0mclass_freq_df\u001b[0m\u001b[0;34m.\u001b[0m\u001b[0macv\u001b[0m\u001b[0;34m)\u001b[0m\u001b[0;34m\u001b[0m\u001b[0;34m\u001b[0m\u001b[0m\n\u001b[0m\u001b[1;32m      3\u001b[0m \u001b[0mplt\u001b[0m\u001b[0;34m.\u001b[0m\u001b[0mplot\u001b[0m\u001b[0;34m(\u001b[0m\u001b[0mclass_freq_df\u001b[0m\u001b[0;34m.\u001b[0m\u001b[0mModels\u001b[0m\u001b[0;34m,\u001b[0m \u001b[0mclass_freq_df\u001b[0m\u001b[0;34m.\u001b[0m\u001b[0mparam_acv\u001b[0m\u001b[0;34m,\u001b[0m \u001b[0mcolor\u001b[0m\u001b[0;34m=\u001b[0m\u001b[0;34m'green'\u001b[0m\u001b[0;34m,\u001b[0m \u001b[0mlinestyle\u001b[0m\u001b[0;34m=\u001b[0m\u001b[0;34m\"dashdot\"\u001b[0m\u001b[0;34m)\u001b[0m\u001b[0;34m\u001b[0m\u001b[0;34m\u001b[0m\u001b[0m\n\u001b[1;32m      4\u001b[0m \u001b[0mplt\u001b[0m\u001b[0;34m.\u001b[0m\u001b[0mplot\u001b[0m\u001b[0;34m(\u001b[0m\u001b[0mclass_freq_df\u001b[0m\u001b[0;34m.\u001b[0m\u001b[0mModels\u001b[0m\u001b[0;34m,\u001b[0m \u001b[0mclass_freq_df\u001b[0m\u001b[0;34m.\u001b[0m\u001b[0mmonte_carlo\u001b[0m\u001b[0;34m,\u001b[0m \u001b[0mcolor\u001b[0m\u001b[0;34m=\u001b[0m\u001b[0;34m'red'\u001b[0m\u001b[0;34m,\u001b[0m \u001b[0mlinestyle\u001b[0m\u001b[0;34m=\u001b[0m\u001b[0;34m\"dashed\"\u001b[0m\u001b[0;34m)\u001b[0m\u001b[0;34m\u001b[0m\u001b[0;34m\u001b[0m\u001b[0m\n\u001b[1;32m      5\u001b[0m \u001b[0mplt\u001b[0m\u001b[0;34m.\u001b[0m\u001b[0mxticks\u001b[0m\u001b[0;34m(\u001b[0m\u001b[0;34m[\u001b[0m\u001b[0;36m2\u001b[0m\u001b[0;34m,\u001b[0m\u001b[0;36m3\u001b[0m\u001b[0;34m,\u001b[0m\u001b[0;36m4\u001b[0m\u001b[0;34m,\u001b[0m\u001b[0;36m5\u001b[0m\u001b[0;34m,\u001b[0m\u001b[0;36m6\u001b[0m\u001b[0;34m]\u001b[0m\u001b[0;34m,\u001b[0m \u001b[0mfontsize\u001b[0m\u001b[0;34m=\u001b[0m\u001b[0;36m20\u001b[0m\u001b[0;34m)\u001b[0m\u001b[0;34m\u001b[0m\u001b[0;34m\u001b[0m\u001b[0m\n",
      "\u001b[0;32m~/anaconda3/lib/python3.6/site-packages/pandas/core/generic.py\u001b[0m in \u001b[0;36m__getattr__\u001b[0;34m(self, name)\u001b[0m\n\u001b[1;32m   5272\u001b[0m             \u001b[0;32mif\u001b[0m \u001b[0mself\u001b[0m\u001b[0;34m.\u001b[0m\u001b[0m_info_axis\u001b[0m\u001b[0;34m.\u001b[0m\u001b[0m_can_hold_identifiers_and_holds_name\u001b[0m\u001b[0;34m(\u001b[0m\u001b[0mname\u001b[0m\u001b[0;34m)\u001b[0m\u001b[0;34m:\u001b[0m\u001b[0;34m\u001b[0m\u001b[0;34m\u001b[0m\u001b[0m\n\u001b[1;32m   5273\u001b[0m                 \u001b[0;32mreturn\u001b[0m \u001b[0mself\u001b[0m\u001b[0;34m[\u001b[0m\u001b[0mname\u001b[0m\u001b[0;34m]\u001b[0m\u001b[0;34m\u001b[0m\u001b[0;34m\u001b[0m\u001b[0m\n\u001b[0;32m-> 5274\u001b[0;31m             \u001b[0;32mreturn\u001b[0m \u001b[0mobject\u001b[0m\u001b[0;34m.\u001b[0m\u001b[0m__getattribute__\u001b[0m\u001b[0;34m(\u001b[0m\u001b[0mself\u001b[0m\u001b[0;34m,\u001b[0m \u001b[0mname\u001b[0m\u001b[0;34m)\u001b[0m\u001b[0;34m\u001b[0m\u001b[0;34m\u001b[0m\u001b[0m\n\u001b[0m\u001b[1;32m   5275\u001b[0m \u001b[0;34m\u001b[0m\u001b[0m\n\u001b[1;32m   5276\u001b[0m     \u001b[0;32mdef\u001b[0m \u001b[0m__setattr__\u001b[0m\u001b[0;34m(\u001b[0m\u001b[0mself\u001b[0m\u001b[0;34m,\u001b[0m \u001b[0mname\u001b[0m\u001b[0;34m:\u001b[0m \u001b[0mstr\u001b[0m\u001b[0;34m,\u001b[0m \u001b[0mvalue\u001b[0m\u001b[0;34m)\u001b[0m \u001b[0;34m->\u001b[0m \u001b[0;32mNone\u001b[0m\u001b[0;34m:\u001b[0m\u001b[0;34m\u001b[0m\u001b[0;34m\u001b[0m\u001b[0m\n",
      "\u001b[0;31mAttributeError\u001b[0m: 'DataFrame' object has no attribute 'acv'"
     ]
    },
    {
     "data": {
      "text/plain": [
       "<Figure size 648x576 with 0 Axes>"
      ]
     },
     "metadata": {},
     "output_type": "display_data"
    }
   ],
   "source": [
    "plt.figure(figsize=(9,8))\n",
    "plt.plot(class_freq_df.Models, class_freq_df.acv)\n",
    "plt.plot(class_freq_df.Models, class_freq_df.param_acv, color='green', linestyle=\"dashdot\")\n",
    "plt.plot(class_freq_df.Models, class_freq_df.monte_carlo, color='red', linestyle=\"dashed\")\n",
    "plt.xticks([2,3,4,5,6], fontsize=20)\n",
    "plt.yticks(fontsize=20)\n",
    "plt.title(\"% of Scenarios that Algorithm Classes Perform the Best\", fontsize = 25)\n",
    "plt.xlabel('Number of Models', fontsize=22); plt.ylabel('% of Model Scenarios Where Best', fontsize=22)\n",
    "plt.legend(['ACV', 'Parametrically-defined ACV', 'Analytical'], fontsize=20)\n",
    "plt.show()"
   ]
  },
  {
   "cell_type": "markdown",
   "metadata": {},
   "source": [
    "Do same but within the P-ACV algorithms"
   ]
  },
  {
   "cell_type": "code",
   "execution_count": 308,
   "metadata": {},
   "outputs": [],
   "source": [
    "#pacv_list_2model = []\n",
    "#pacv_list_3model = []\n",
    "#pacv_list_4model = []\n",
    "#pacv_list_5model = []\n",
    "#pacv_list_6model = []"
   ]
  },
  {
   "cell_type": "code",
   "execution_count": 309,
   "metadata": {},
   "outputs": [],
   "source": [
    "for index, row in current_df2.iterrows():\n",
    "    best_class = class_dict.get(row.idxmin())\n",
    "    \n",
    "    if best_class == 'param acv':\n",
    "        pacv_list_2model.append(row.idxmin())"
   ]
  },
  {
   "cell_type": "code",
   "execution_count": 285,
   "metadata": {},
   "outputs": [],
   "source": [
    "for index, row in current_df3.iterrows():\n",
    "    best_class = class_dict.get(row.idxmin())\n",
    "    \n",
    "    if best_class == 'param acv':\n",
    "        pacv_list_3model.append(row.idxmin())"
   ]
  },
  {
   "cell_type": "code",
   "execution_count": 286,
   "metadata": {},
   "outputs": [],
   "source": [
    "for index, row in current_df4.iterrows():\n",
    "    best_class = class_dict.get(row.idxmin())\n",
    "    \n",
    "    if best_class == 'param acv':\n",
    "        pacv_list_4model.append(row.idxmin())"
   ]
  },
  {
   "cell_type": "code",
   "execution_count": 287,
   "metadata": {},
   "outputs": [],
   "source": [
    "for index, row in current_df5.iterrows():\n",
    "    best_class = class_dict.get(row.idxmin())\n",
    "    \n",
    "    if best_class == 'param acv':\n",
    "        pacv_list_5model.append(row.idxmin())"
   ]
  },
  {
   "cell_type": "code",
   "execution_count": 288,
   "metadata": {},
   "outputs": [],
   "source": [
    "for index, row in current_df6.iterrows():\n",
    "    best_class = class_dict.get(row.idxmin())\n",
    "    \n",
    "    if best_class == 'param acv':\n",
    "        pacv_list_6model.append(row.idxmin())"
   ]
  },
  {
   "cell_type": "code",
   "execution_count": 311,
   "metadata": {},
   "outputs": [
    {
     "data": {
      "text/plain": [
       "431230"
      ]
     },
     "execution_count": 311,
     "metadata": {},
     "output_type": "execute_result"
    }
   ],
   "source": [
    "len(pacv_list_2model)"
   ]
  },
  {
   "cell_type": "code",
   "execution_count": 323,
   "metadata": {},
   "outputs": [],
   "source": [
    "pacv_2freq = CountFrequency(pacv_list_2model)\n",
    "pacv_2freq['grdsr'] = 0\n",
    "pacv_2freq['gissr'] = 0\n",
    "pacv_2freq['gmfsr'] = 0\n",
    "pacv_2freq['gmfmr'] = 0\n",
    "pacv_2freq['grdmr'] = 0\n",
    "pacv_2freq['gismr'] = 0\n",
    "\n",
    "for k in pacv_2freq:\n",
    "    pacv_2freq[k] = pacv_2freq[k] / len(pacv_list_2model)"
   ]
  },
  {
   "cell_type": "code",
   "execution_count": 324,
   "metadata": {},
   "outputs": [],
   "source": [
    "pacv_3freq = CountFrequency(pacv_list_3model)\n",
    "pacv_3freq['gmfmr'] = 0\n",
    "pacv_3freq['grdmr'] = 0\n",
    "pacv_3freq['gismr'] = 0\n",
    "\n",
    "for k in pacv_3freq:\n",
    "    pacv_3freq[k] = pacv_3freq[k] / len(pacv_list_3model)"
   ]
  },
  {
   "cell_type": "code",
   "execution_count": 325,
   "metadata": {},
   "outputs": [],
   "source": [
    "pacv_4freq = CountFrequency(pacv_list_4model)\n",
    "\n",
    "for k in pacv_4freq:\n",
    "    pacv_4freq[k] = pacv_4freq[k] / len(pacv_list_4model)"
   ]
  },
  {
   "cell_type": "code",
   "execution_count": 326,
   "metadata": {},
   "outputs": [],
   "source": [
    "pacv_5freq = CountFrequency(pacv_list_5model)\n",
    "\n",
    "for k in pacv_5freq:\n",
    "    pacv_5freq[k] = pacv_5freq[k] / len(pacv_list_5model)"
   ]
  },
  {
   "cell_type": "code",
   "execution_count": 327,
   "metadata": {},
   "outputs": [],
   "source": [
    "pacv_6freq = CountFrequency(pacv_list_6model)\n",
    "\n",
    "for k in pacv_6freq:\n",
    "    pacv_6freq[k] = pacv_6freq[k] / len(pacv_list_6model)"
   ]
  },
  {
   "cell_type": "code",
   "execution_count": null,
   "metadata": {},
   "outputs": [],
   "source": []
  },
  {
   "cell_type": "code",
   "execution_count": 334,
   "metadata": {},
   "outputs": [],
   "source": [
    "desired_order_list = ['grdsr', 'grdmr', 'gissr','gismr','acvmfu', 'gmfsr', 'gmfmr']\n",
    "\n",
    "pacv_2freq = {k: pacv_2freq[k] for k in desired_order_list}\n",
    "pacv_3freq = {k: pacv_3freq[k] for k in desired_order_list}\n",
    "pacv_4freq = {k: pacv_4freq[k] for k in desired_order_list}\n",
    "pacv_5freq = {k: pacv_5freq[k] for k in desired_order_list}\n",
    "pacv_6freq = {k: pacv_6freq[k] for k in desired_order_list}\n",
    "\n",
    "pacv_2col = [pacv_2freq[k] for k in pacv_2freq]\n",
    "pacv_3col = [pacv_3freq[k] for k in pacv_3freq]\n",
    "pacv_4col = [pacv_4freq[k] for k in pacv_4freq]\n",
    "pacv_5col = [pacv_5freq[k] for k in pacv_5freq]\n",
    "pacv_6col = [pacv_6freq[k] for k in pacv_6freq]\n",
    "algorithms = desired_order_list"
   ]
  },
  {
   "cell_type": "code",
   "execution_count": null,
   "metadata": {},
   "outputs": [],
   "source": []
  },
  {
   "cell_type": "code",
   "execution_count": 341,
   "metadata": {},
   "outputs": [],
   "source": [
    "pacv_freq_df = pd.DataFrame({'algorithms':algorithms, '2models':pacv_2col, '3models':pacv_3col, \n",
    "              '4models':pacv_4col, '5models':pacv_5col, '6models':pacv_6col})\n",
    "\n",
    "pacv_freq_df= pacv_freq_df.T\n",
    "pacv_freq_df['Models'] = ['Models',2,3,4,5,6]"
   ]
  },
  {
   "cell_type": "code",
   "execution_count": 342,
   "metadata": {},
   "outputs": [],
   "source": [
    "new_header = pacv_freq_df.iloc[0]\n",
    "pacv_freq_df = pacv_freq_df[1:]\n",
    "pacv_freq_df.columns = new_header\n",
    "pacv_freq_df.columns = ['grdsr', 'grdmr', 'gissr','gismr','acvmfu', 'gmfsr', 'gmfmr', 'Models']"
   ]
  },
  {
   "cell_type": "code",
   "execution_count": 343,
   "metadata": {},
   "outputs": [
    {
     "data": {
      "text/html": [
       "<div>\n",
       "<style scoped>\n",
       "    .dataframe tbody tr th:only-of-type {\n",
       "        vertical-align: middle;\n",
       "    }\n",
       "\n",
       "    .dataframe tbody tr th {\n",
       "        vertical-align: top;\n",
       "    }\n",
       "\n",
       "    .dataframe thead th {\n",
       "        text-align: right;\n",
       "    }\n",
       "</style>\n",
       "<table border=\"1\" class=\"dataframe\">\n",
       "  <thead>\n",
       "    <tr style=\"text-align: right;\">\n",
       "      <th></th>\n",
       "      <th>grdsr</th>\n",
       "      <th>grdmr</th>\n",
       "      <th>gissr</th>\n",
       "      <th>gismr</th>\n",
       "      <th>acvmfu</th>\n",
       "      <th>gmfsr</th>\n",
       "      <th>gmfmr</th>\n",
       "      <th>Models</th>\n",
       "    </tr>\n",
       "  </thead>\n",
       "  <tbody>\n",
       "    <tr>\n",
       "      <th>2models</th>\n",
       "      <td>0</td>\n",
       "      <td>0</td>\n",
       "      <td>0</td>\n",
       "      <td>0</td>\n",
       "      <td>1</td>\n",
       "      <td>0</td>\n",
       "      <td>0</td>\n",
       "      <td>2</td>\n",
       "    </tr>\n",
       "    <tr>\n",
       "      <th>3models</th>\n",
       "      <td>0.389845</td>\n",
       "      <td>0</td>\n",
       "      <td>0.0103106</td>\n",
       "      <td>0</td>\n",
       "      <td>0.576544</td>\n",
       "      <td>0.0233002</td>\n",
       "      <td>0</td>\n",
       "      <td>3</td>\n",
       "    </tr>\n",
       "    <tr>\n",
       "      <th>4models</th>\n",
       "      <td>0.312354</td>\n",
       "      <td>0.0294536</td>\n",
       "      <td>0.115446</td>\n",
       "      <td>0.0135865</td>\n",
       "      <td>0.350261</td>\n",
       "      <td>0.115349</td>\n",
       "      <td>0.0635496</td>\n",
       "      <td>4</td>\n",
       "    </tr>\n",
       "    <tr>\n",
       "      <th>5models</th>\n",
       "      <td>0.195226</td>\n",
       "      <td>0.0610035</td>\n",
       "      <td>0.121565</td>\n",
       "      <td>0.0422478</td>\n",
       "      <td>0.127525</td>\n",
       "      <td>0.137732</td>\n",
       "      <td>0.314701</td>\n",
       "      <td>5</td>\n",
       "    </tr>\n",
       "    <tr>\n",
       "      <th>6models</th>\n",
       "      <td>0.0975949</td>\n",
       "      <td>0.078455</td>\n",
       "      <td>0.0740225</td>\n",
       "      <td>0.068545</td>\n",
       "      <td>0.0293647</td>\n",
       "      <td>0.0636844</td>\n",
       "      <td>0.588333</td>\n",
       "      <td>6</td>\n",
       "    </tr>\n",
       "  </tbody>\n",
       "</table>\n",
       "</div>"
      ],
      "text/plain": [
       "             grdsr      grdmr      gissr      gismr     acvmfu      gmfsr  \\\n",
       "2models          0          0          0          0          1          0   \n",
       "3models   0.389845          0  0.0103106          0   0.576544  0.0233002   \n",
       "4models   0.312354  0.0294536   0.115446  0.0135865   0.350261   0.115349   \n",
       "5models   0.195226  0.0610035   0.121565  0.0422478   0.127525   0.137732   \n",
       "6models  0.0975949   0.078455  0.0740225   0.068545  0.0293647  0.0636844   \n",
       "\n",
       "             gmfmr Models  \n",
       "2models          0      2  \n",
       "3models          0      3  \n",
       "4models  0.0635496      4  \n",
       "5models   0.314701      5  \n",
       "6models   0.588333      6  "
      ]
     },
     "execution_count": 343,
     "metadata": {},
     "output_type": "execute_result"
    }
   ],
   "source": [
    "pacv_freq_df"
   ]
  },
  {
   "cell_type": "code",
   "execution_count": 371,
   "metadata": {},
   "outputs": [
    {
     "data": {
      "image/png": "[encoded data removed]",
      "text/plain": [
       "<Figure size 648x576 with 1 Axes>"
      ]
     },
     "metadata": {},
     "output_type": "display_data"
    }
   ],
   "source": [
    "plt.figure(figsize=(9,8))\n",
    "plt.plot(pacv_freq_df.Models, pacv_freq_df.grdsr, color='red')\n",
    "plt.plot(pacv_freq_df.Models, pacv_freq_df.grdmr, color='red', linestyle=\"dashed\")\n",
    "plt.plot(pacv_freq_df.Models, pacv_freq_df.gissr, color='blue', linestyle=\"solid\")\n",
    "plt.plot(pacv_freq_df.Models, pacv_freq_df.gismr, color='blue', linestyle=\"dashed\")\n",
    "plt.plot(pacv_freq_df.Models, pacv_freq_df.acvmfu, color='green', linestyle=\"solid\")\n",
    "plt.plot(pacv_freq_df.Models, pacv_freq_df.gmfsr, color='green', linestyle=\"dashdot\")\n",
    "plt.plot(pacv_freq_df.Models, pacv_freq_df.gmfmr, color='green', linestyle=\"dashed\")\n",
    "plt.xticks([2,3,4,5,6], fontsize=18)\n",
    "plt.yticks(fontsize=18)\n",
    "plt.title(\"% Of Model Scenarios Where a P-ACV Algorithm Performs Best Based on Model Number\", fontsize = 14)\n",
    "plt.xlabel('Number of Models',fontsize=18); plt.ylabel('Percentage of Model Scenarios Where Best', fontsize=17)\n",
    "plt.legend(['GRSDR (Recursive)', 'GRDMR (Recursive)', 'GISSR (Ind. Sample)','GISMR (Ind. Sample)','ACVMFU (Multifidel)', 'GMFSR(Multifidel)', 'GMFMR(Multifidel)'], fontsize=14)\n",
    "plt.show()"
   ]
  },
  {
   "cell_type": "markdown",
   "metadata": {},
   "source": [
    "### *the majority of 2-model and 3-model case variances were similar, and the code selected the first appearance of the minimum variance, which happened to be ACVMFU  "
   ]
  },
  {
   "cell_type": "code",
   "execution_count": null,
   "metadata": {},
   "outputs": [],
   "source": []
  },
  {
   "cell_type": "code",
   "execution_count": null,
   "metadata": {},
   "outputs": [],
   "source": []
  },
  {
   "cell_type": "code",
   "execution_count": null,
   "metadata": {},
   "outputs": [],
   "source": []
  },
  {
   "cell_type": "code",
   "execution_count": null,
   "metadata": {},
   "outputs": [],
   "source": []
  },
  {
   "cell_type": "markdown",
   "metadata": {},
   "source": [
    "# By Class, but with AMS on"
   ]
  },
  {
   "cell_type": "code",
   "execution_count": 377,
   "metadata": {},
   "outputs": [],
   "source": [
    "current_df2 = models_2[[\"mlmc ams\", 'wrdiff ams', 'grdsr ams','grdmr ams', 'acvis ams',\n",
    "                        'gissr ams','gismr ams', 'acvmfu ams', 'gmfsr ams','gmfmr ams',\n",
    "                        'mfmc ams','acvmf ams','acvkl ams']]\n",
    "current_df3 = models_3[[\"mlmc ams\", 'wrdiff ams', 'grdsr ams','grdmr ams', 'acvis ams',\n",
    "                        'gissr ams','gismr ams', 'acvmfu ams', 'gmfsr ams','gmfmr ams',\n",
    "                        'mfmc ams','acvmf ams','acvkl ams']]\n",
    "current_df4 = models_4[[\"mlmc ams\", 'wrdiff ams', 'grdsr ams','grdmr ams', 'acvis ams',\n",
    "                        'gissr ams','gismr ams', 'acvmfu ams', 'gmfsr ams','gmfmr ams',\n",
    "                        'mfmc ams','acvmf ams','acvkl ams']]\n",
    "current_df5 = models_5[[\"mlmc ams\", 'wrdiff ams', 'grdsr ams','grdmr ams', 'acvis ams',\n",
    "                        'gissr ams','gismr ams', 'acvmfu ams', 'gmfsr ams','gmfmr ams',\n",
    "                        'mfmc ams','acvmf ams','acvkl ams']]\n",
    "current_df6 = models_6[[\"mlmc ams\", 'wrdiff ams', 'grdsr ams','grdmr ams', 'acvis ams',\n",
    "                        'gissr ams','gismr ams', 'acvmfu ams', 'gmfsr ams','gmfmr ams',\n",
    "                        'mfmc ams','acvmf ams','acvkl ams']]"
   ]
  },
  {
   "cell_type": "code",
   "execution_count": 378,
   "metadata": {},
   "outputs": [],
   "source": [
    "ams_list_2model = []\n",
    "ams_list_3model = []\n",
    "ams_list_4model = []\n",
    "ams_list_5model = [] \n",
    "ams_list_6model = []"
   ]
  },
  {
   "cell_type": "code",
   "execution_count": 379,
   "metadata": {},
   "outputs": [],
   "source": [
    "for index, row in current_df2.iterrows():\n",
    "\n",
    "    best_class = ams_class_dict.get(row.idxmin())\n",
    "\n",
    "    ams_list_2model.append(best_class)"
   ]
  },
  {
   "cell_type": "code",
   "execution_count": 380,
   "metadata": {},
   "outputs": [],
   "source": [
    "for index, row in current_df3.iterrows():\n",
    "    \n",
    "    best_class = ams_class_dict.get(row.idxmin())\n",
    "    ams_list_3model.append(best_class)"
   ]
  },
  {
   "cell_type": "code",
   "execution_count": 381,
   "metadata": {},
   "outputs": [],
   "source": [
    "for index, row in current_df4.iterrows():\n",
    "    \n",
    "    best_class = ams_class_dict.get(row.idxmin())\n",
    "    ams_list_4model.append(best_class)"
   ]
  },
  {
   "cell_type": "code",
   "execution_count": 382,
   "metadata": {},
   "outputs": [],
   "source": [
    "for index, row in current_df5.iterrows():\n",
    "    \n",
    "    best_class = ams_class_dict.get(row.idxmin())\n",
    "    ams_list_5model.append(best_class)"
   ]
  },
  {
   "cell_type": "code",
   "execution_count": 383,
   "metadata": {},
   "outputs": [],
   "source": [
    "for index, row in current_df6.iterrows():\n",
    "    \n",
    "    best_class = ams_class_dict.get(row.idxmin())\n",
    "    ams_list_6model.append(best_class)"
   ]
  },
  {
   "cell_type": "code",
   "execution_count": null,
   "metadata": {},
   "outputs": [],
   "source": []
  },
  {
   "cell_type": "code",
   "execution_count": 389,
   "metadata": {},
   "outputs": [],
   "source": [
    "ams_2freq = CountFrequency(ams_list_2model)\n",
    "\n",
    "for k in ams_2freq:\n",
    "    ams_2freq[k] = ams_2freq[k] / len(ams_list_2model)"
   ]
  },
  {
   "cell_type": "code",
   "execution_count": 390,
   "metadata": {},
   "outputs": [],
   "source": [
    "ams_3freq = CountFrequency(ams_list_3model)\n",
    "\n",
    "for k in ams_3freq:\n",
    "    ams_3freq[k] = ams_3freq[k] / len(ams_list_3model)"
   ]
  },
  {
   "cell_type": "code",
   "execution_count": 391,
   "metadata": {},
   "outputs": [],
   "source": [
    "ams_4freq = CountFrequency(ams_list_4model)\n",
    "\n",
    "for k in ams_4freq:\n",
    "    ams_4freq[k] = ams_4freq[k] / len(ams_list_4model)"
   ]
  },
  {
   "cell_type": "code",
   "execution_count": 392,
   "metadata": {},
   "outputs": [],
   "source": [
    "ams_5freq = CountFrequency(ams_list_5model)\n",
    "\n",
    "for k in ams_5freq:\n",
    "    ams_5freq[k] = ams_5freq[k] / len(ams_list_5model)"
   ]
  },
  {
   "cell_type": "code",
   "execution_count": 393,
   "metadata": {},
   "outputs": [],
   "source": [
    "ams_6freq = CountFrequency(ams_list_6model)\n",
    "\n",
    "for k in ams_6freq:\n",
    "    ams_6freq[k] = ams_6freq[k] / len(ams_list_6model)"
   ]
  },
  {
   "cell_type": "code",
   "execution_count": null,
   "metadata": {},
   "outputs": [],
   "source": []
  },
  {
   "cell_type": "code",
   "execution_count": 399,
   "metadata": {},
   "outputs": [],
   "source": [
    "desired_order_list = ['acv', 'param acv', 'monte carlo']\n",
    "\n",
    "ams_2freq = {k: ams_2freq[k] for k in desired_order_list}\n",
    "ams_3freq = {k: ams_3freq[k] for k in desired_order_list}\n",
    "ams_4freq = {k: ams_4freq[k] for k in desired_order_list}\n",
    "ams_5freq = {k: ams_5freq[k] for k in desired_order_list}\n",
    "ams_6freq = {k: ams_6freq[k] for k in desired_order_list}\n",
    "\n",
    "ams_2col = [ams_2freq[k] for k in ams_2freq]\n",
    "ams_3col = [ams_3freq[k] for k in ams_3freq]\n",
    "ams_4col = [ams_4freq[k] for k in ams_4freq]\n",
    "ams_5col = [ams_5freq[k] for k in ams_5freq]\n",
    "ams_6col = [ams_6freq[k] for k in ams_6freq]\n",
    "classes = desired_order_list"
   ]
  },
  {
   "cell_type": "code",
   "execution_count": 401,
   "metadata": {
    "collapsed": true
   },
   "outputs": [
    {
     "data": {
      "text/html": [
       "<div>\n",
       "<style scoped>\n",
       "    .dataframe tbody tr th:only-of-type {\n",
       "        vertical-align: middle;\n",
       "    }\n",
       "\n",
       "    .dataframe tbody tr th {\n",
       "        vertical-align: top;\n",
       "    }\n",
       "\n",
       "    .dataframe thead th {\n",
       "        text-align: right;\n",
       "    }\n",
       "</style>\n",
       "<table border=\"1\" class=\"dataframe\">\n",
       "  <thead>\n",
       "    <tr style=\"text-align: right;\">\n",
       "      <th></th>\n",
       "      <th>0</th>\n",
       "      <th>1</th>\n",
       "      <th>2</th>\n",
       "      <th>Models</th>\n",
       "    </tr>\n",
       "  </thead>\n",
       "  <tbody>\n",
       "    <tr>\n",
       "      <th>Class</th>\n",
       "      <td>acv</td>\n",
       "      <td>param acv</td>\n",
       "      <td>monte carlo</td>\n",
       "      <td>Models</td>\n",
       "    </tr>\n",
       "    <tr>\n",
       "      <th>2models</th>\n",
       "      <td>0.234315</td>\n",
       "      <td>0.333395</td>\n",
       "      <td>0.43229</td>\n",
       "      <td>2</td>\n",
       "    </tr>\n",
       "    <tr>\n",
       "      <th>3models</th>\n",
       "      <td>0.182285</td>\n",
       "      <td>0.661771</td>\n",
       "      <td>0.155944</td>\n",
       "      <td>3</td>\n",
       "    </tr>\n",
       "    <tr>\n",
       "      <th>4models</th>\n",
       "      <td>0.135629</td>\n",
       "      <td>0.806148</td>\n",
       "      <td>0.058223</td>\n",
       "      <td>4</td>\n",
       "    </tr>\n",
       "    <tr>\n",
       "      <th>5models</th>\n",
       "      <td>0.0908124</td>\n",
       "      <td>0.886208</td>\n",
       "      <td>0.02298</td>\n",
       "      <td>5</td>\n",
       "    </tr>\n",
       "    <tr>\n",
       "      <th>6models</th>\n",
       "      <td>0.0588349</td>\n",
       "      <td>0.931281</td>\n",
       "      <td>0.00988387</td>\n",
       "      <td>6</td>\n",
       "    </tr>\n",
       "  </tbody>\n",
       "</table>\n",
       "</div>"
      ],
      "text/plain": [
       "                 0          1            2  Models\n",
       "Class          acv  param acv  monte carlo  Models\n",
       "2models   0.234315   0.333395      0.43229       2\n",
       "3models   0.182285   0.661771     0.155944       3\n",
       "4models   0.135629   0.806148     0.058223       4\n",
       "5models  0.0908124   0.886208      0.02298       5\n",
       "6models  0.0588349   0.931281   0.00988387       6"
      ]
     },
     "execution_count": 401,
     "metadata": {},
     "output_type": "execute_result"
    }
   ],
   "source": [
    "ams_freq_df = pd.DataFrame({'Class':classes, '2models':ams_2col, '3models':ams_3col, \n",
    "              '4models':ams_4col, '5models':ams_5col, '6models':ams_6col})\n",
    "\n",
    "ams_freq_df= ams_freq_df.T\n",
    "ams_freq_df['Models'] = ['Models',2,3,4,5,6]\n"
   ]
  },
  {
   "cell_type": "code",
   "execution_count": 402,
   "metadata": {},
   "outputs": [],
   "source": [
    "new_header = ams_freq_df.iloc[0]\n",
    "ams_freq_df = ams_freq_df[1:]\n",
    "ams_freq_df.columns = new_header\n",
    "ams_freq_df.columns = ['acv', 'param_acv', 'monte_carlo', 'Models']"
   ]
  },
  {
   "cell_type": "code",
   "execution_count": 403,
   "metadata": {},
   "outputs": [
    {
     "data": {
      "text/html": [
       "<div>\n",
       "<style scoped>\n",
       "    .dataframe tbody tr th:only-of-type {\n",
       "        vertical-align: middle;\n",
       "    }\n",
       "\n",
       "    .dataframe tbody tr th {\n",
       "        vertical-align: top;\n",
       "    }\n",
       "\n",
       "    .dataframe thead th {\n",
       "        text-align: right;\n",
       "    }\n",
       "</style>\n",
       "<table border=\"1\" class=\"dataframe\">\n",
       "  <thead>\n",
       "    <tr style=\"text-align: right;\">\n",
       "      <th></th>\n",
       "      <th>acv</th>\n",
       "      <th>param_acv</th>\n",
       "      <th>monte_carlo</th>\n",
       "      <th>Models</th>\n",
       "    </tr>\n",
       "  </thead>\n",
       "  <tbody>\n",
       "    <tr>\n",
       "      <th>2models</th>\n",
       "      <td>0.234315</td>\n",
       "      <td>0.333395</td>\n",
       "      <td>0.43229</td>\n",
       "      <td>2</td>\n",
       "    </tr>\n",
       "    <tr>\n",
       "      <th>3models</th>\n",
       "      <td>0.182285</td>\n",
       "      <td>0.661771</td>\n",
       "      <td>0.155944</td>\n",
       "      <td>3</td>\n",
       "    </tr>\n",
       "    <tr>\n",
       "      <th>4models</th>\n",
       "      <td>0.135629</td>\n",
       "      <td>0.806148</td>\n",
       "      <td>0.058223</td>\n",
       "      <td>4</td>\n",
       "    </tr>\n",
       "    <tr>\n",
       "      <th>5models</th>\n",
       "      <td>0.0908124</td>\n",
       "      <td>0.886208</td>\n",
       "      <td>0.02298</td>\n",
       "      <td>5</td>\n",
       "    </tr>\n",
       "    <tr>\n",
       "      <th>6models</th>\n",
       "      <td>0.0588349</td>\n",
       "      <td>0.931281</td>\n",
       "      <td>0.00988387</td>\n",
       "      <td>6</td>\n",
       "    </tr>\n",
       "  </tbody>\n",
       "</table>\n",
       "</div>"
      ],
      "text/plain": [
       "               acv param_acv monte_carlo Models\n",
       "2models   0.234315  0.333395     0.43229      2\n",
       "3models   0.182285  0.661771    0.155944      3\n",
       "4models   0.135629  0.806148    0.058223      4\n",
       "5models  0.0908124  0.886208     0.02298      5\n",
       "6models  0.0588349  0.931281  0.00988387      6"
      ]
     },
     "execution_count": 403,
     "metadata": {},
     "output_type": "execute_result"
    }
   ],
   "source": [
    "ams_freq_df"
   ]
  },
  {
   "cell_type": "code",
   "execution_count": 404,
   "metadata": {},
   "outputs": [
    {
     "data": {
      "image/png": "[encoded data removed]",
      "text/plain": [
       "<Figure size 648x576 with 1 Axes>"
      ]
     },
     "metadata": {},
     "output_type": "display_data"
    }
   ],
   "source": [
    "plt.figure(figsize=(9,8))\n",
    "plt.plot(ams_freq_df.Models, ams_freq_df.acv)\n",
    "plt.plot(ams_freq_df.Models, ams_freq_df.param_acv, color='green', linestyle=\"dashdot\")\n",
    "plt.plot(ams_freq_df.Models, ams_freq_df.monte_carlo, color='red', linestyle=\"dashed\")\n",
    "plt.xticks([2,3,4,5,6], fontsize=18)\n",
    "plt.yticks(fontsize=18)\n",
    "plt.title(\"% of Model Scenarios where AMS Algorithm Classes Perform the Best Based on Model Number\", fontsize = 14)\n",
    "plt.xlabel('Number of Models', fontsize=18); plt.ylabel('Percentage of Model Scenarios Where Best', fontsize=18)\n",
    "plt.legend(['ACV', 'Parametrically-defined ACV', 'Monte Carlo'], fontsize=14)\n",
    "plt.show()"
   ]
  },
  {
   "cell_type": "code",
   "execution_count": null,
   "metadata": {},
   "outputs": [],
   "source": []
  },
  {
   "cell_type": "markdown",
   "metadata": {},
   "source": [
    "# Parametrically-defined ACV with AMS Distribution"
   ]
  },
  {
   "cell_type": "code",
   "execution_count": 406,
   "metadata": {},
   "outputs": [],
   "source": [
    "ams_pacv_list_2model = []\n",
    "ams_pacv_list_3model = []\n",
    "ams_pacv_list_4model = []\n",
    "ams_pacv_list_5model = []\n",
    "ams_pacv_list_6model = []"
   ]
  },
  {
   "cell_type": "code",
   "execution_count": 408,
   "metadata": {},
   "outputs": [],
   "source": [
    "for index, row in current_df2.iterrows():\n",
    "    best_class = ams_class_dict.get(row.idxmin())\n",
    "    \n",
    "    if best_class == 'param acv':\n",
    "        ams_pacv_list_2model.append(row.idxmin())"
   ]
  },
  {
   "cell_type": "code",
   "execution_count": 409,
   "metadata": {},
   "outputs": [],
   "source": [
    "for index, row in current_df3.iterrows():\n",
    "    best_class = ams_class_dict.get(row.idxmin())\n",
    "    \n",
    "    if best_class == 'param acv':\n",
    "        ams_pacv_list_3model.append(row.idxmin())"
   ]
  },
  {
   "cell_type": "code",
   "execution_count": 410,
   "metadata": {},
   "outputs": [],
   "source": [
    "for index, row in current_df4.iterrows():\n",
    "    best_class = ams_class_dict.get(row.idxmin())\n",
    "    \n",
    "    if best_class == 'param acv':\n",
    "        ams_pacv_list_4model.append(row.idxmin())"
   ]
  },
  {
   "cell_type": "code",
   "execution_count": 411,
   "metadata": {},
   "outputs": [],
   "source": [
    "for index, row in current_df5.iterrows():\n",
    "    best_class = ams_class_dict.get(row.idxmin())\n",
    "    \n",
    "    if best_class == 'param acv':\n",
    "        ams_pacv_list_5model.append(row.idxmin())"
   ]
  },
  {
   "cell_type": "code",
   "execution_count": 412,
   "metadata": {},
   "outputs": [],
   "source": [
    "for index, row in current_df6.iterrows():\n",
    "    best_class = ams_class_dict.get(row.idxmin())\n",
    "    \n",
    "    if best_class == 'param acv':\n",
    "        ams_pacv_list_6model.append(row.idxmin())"
   ]
  },
  {
   "cell_type": "code",
   "execution_count": null,
   "metadata": {},
   "outputs": [],
   "source": []
  },
  {
   "cell_type": "code",
   "execution_count": 422,
   "metadata": {},
   "outputs": [],
   "source": [
    "ams_pacv_2freq = CountFrequency(ams_pacv_list_2model)\n",
    "ams_pacv_2freq['grdsr ams'] = 0\n",
    "ams_pacv_2freq['gissr ams'] = 0\n",
    "ams_pacv_2freq['gmfsr ams'] = 0\n",
    "ams_pacv_2freq['gmfmr ams'] = 0\n",
    "ams_pacv_2freq['grdmr ams'] = 0\n",
    "ams_pacv_2freq['gismr ams'] = 0\n",
    "\n",
    "for k in ams_pacv_2freq:\n",
    "    ams_pacv_2freq[k] = ams_pacv_2freq[k] / len(ams_pacv_list_2model)"
   ]
  },
  {
   "cell_type": "code",
   "execution_count": 423,
   "metadata": {},
   "outputs": [],
   "source": [
    "ams_pacv_3freq = CountFrequency(ams_pacv_list_3model)\n",
    "ams_pacv_3freq['gmfmr ams'] = 0\n",
    "ams_pacv_3freq['grdmr ams'] = 0\n",
    "ams_pacv_3freq['gismr ams'] = 0\n",
    "\n",
    "for k in ams_pacv_3freq:\n",
    "    ams_pacv_3freq[k] = ams_pacv_3freq[k] / len(ams_pacv_list_3model)"
   ]
  },
  {
   "cell_type": "code",
   "execution_count": 424,
   "metadata": {},
   "outputs": [],
   "source": [
    "ams_pacv_4freq = CountFrequency(ams_pacv_list_4model)\n",
    "\n",
    "for k in ams_pacv_4freq:\n",
    "    ams_pacv_4freq[k] = ams_pacv_4freq[k] / len(ams_pacv_list_4model)"
   ]
  },
  {
   "cell_type": "code",
   "execution_count": 425,
   "metadata": {},
   "outputs": [],
   "source": [
    "ams_pacv_5freq = CountFrequency(ams_pacv_list_5model)\n",
    "\n",
    "for k in ams_pacv_5freq:\n",
    "    ams_pacv_5freq[k] = ams_pacv_5freq[k] / len(ams_pacv_list_5model)"
   ]
  },
  {
   "cell_type": "code",
   "execution_count": 426,
   "metadata": {},
   "outputs": [],
   "source": [
    "ams_pacv_6freq = CountFrequency(ams_pacv_list_6model)\n",
    "\n",
    "for k in ams_pacv_6freq:\n",
    "    ams_pacv_6freq[k] = ams_pacv_6freq[k] / len(ams_pacv_list_6model)"
   ]
  },
  {
   "cell_type": "code",
   "execution_count": 427,
   "metadata": {},
   "outputs": [
    {
     "data": {
      "text/plain": [
       "{'grdsr ams': 0.23476398935583456,\n",
       " 'acvmfu ams': 0.7443571870027548,\n",
       " 'gissr ams': 0.004475868540628102,\n",
       " 'gmfsr ams': 0.016402955100782598,\n",
       " 'gmfmr ams': 0.0,\n",
       " 'grdmr ams': 0.0,\n",
       " 'gismr ams': 0.0}"
      ]
     },
     "execution_count": 427,
     "metadata": {},
     "output_type": "execute_result"
    }
   ],
   "source": [
    "ams_pacv_3freq"
   ]
  },
  {
   "cell_type": "code",
   "execution_count": 428,
   "metadata": {},
   "outputs": [],
   "source": [
    "desired_order_list = ['grdsr ams', 'grdmr ams', 'gissr ams','gismr ams','acvmfu ams', \n",
    "                      'gmfsr ams', 'gmfmr ams']\n",
    "\n",
    "ams_pacv_2freq = {k: ams_pacv_2freq[k] for k in desired_order_list}\n",
    "ams_pacv_3freq = {k: ams_pacv_3freq[k] for k in desired_order_list}\n",
    "ams_pacv_4freq = {k: ams_pacv_4freq[k] for k in desired_order_list}\n",
    "ams_pacv_5freq = {k: ams_pacv_5freq[k] for k in desired_order_list}\n",
    "ams_pacv_6freq = {k: ams_pacv_6freq[k] for k in desired_order_list}\n",
    "\n",
    "ams_pacv_2col = [ams_pacv_2freq[k] for k in ams_pacv_2freq]\n",
    "ams_pacv_3col = [ams_pacv_3freq[k] for k in ams_pacv_3freq]\n",
    "ams_pacv_4col = [ams_pacv_4freq[k] for k in ams_pacv_4freq]\n",
    "ams_pacv_5col = [ams_pacv_5freq[k] for k in ams_pacv_5freq]\n",
    "ams_pacv_6col = [ams_pacv_6freq[k] for k in ams_pacv_6freq]\n",
    "ams_algorithms = desired_order_list"
   ]
  },
  {
   "cell_type": "code",
   "execution_count": 429,
   "metadata": {},
   "outputs": [],
   "source": [
    "ams_pacv_freq_df = pd.DataFrame({'algorithms':ams_algorithms, '2models':ams_pacv_2col, \n",
    "                             '3models':ams_pacv_3col, '4models':ams_pacv_4col, \n",
    "                             '5models':ams_pacv_5col, '6models':ams_pacv_6col})\n",
    "\n",
    "ams_pacv_freq_df= ams_pacv_freq_df.T\n",
    "ams_pacv_freq_df['Models'] = ['Models',2,3,4,5,6]"
   ]
  },
  {
   "cell_type": "code",
   "execution_count": 430,
   "metadata": {},
   "outputs": [
    {
     "data": {
      "text/html": [
       "<div>\n",
       "<style scoped>\n",
       "    .dataframe tbody tr th:only-of-type {\n",
       "        vertical-align: middle;\n",
       "    }\n",
       "\n",
       "    .dataframe tbody tr th {\n",
       "        vertical-align: top;\n",
       "    }\n",
       "\n",
       "    .dataframe thead th {\n",
       "        text-align: right;\n",
       "    }\n",
       "</style>\n",
       "<table border=\"1\" class=\"dataframe\">\n",
       "  <thead>\n",
       "    <tr style=\"text-align: right;\">\n",
       "      <th></th>\n",
       "      <th>grdsr_ams</th>\n",
       "      <th>grdmr_ams</th>\n",
       "      <th>gissr_ams</th>\n",
       "      <th>gismr_ams</th>\n",
       "      <th>acvmfu_ams</th>\n",
       "      <th>gmfsr_ams</th>\n",
       "      <th>gmfmr_ams</th>\n",
       "      <th>Models</th>\n",
       "    </tr>\n",
       "  </thead>\n",
       "  <tbody>\n",
       "    <tr>\n",
       "      <th>2models</th>\n",
       "      <td>0</td>\n",
       "      <td>0</td>\n",
       "      <td>0</td>\n",
       "      <td>0</td>\n",
       "      <td>1</td>\n",
       "      <td>0</td>\n",
       "      <td>0</td>\n",
       "      <td>2</td>\n",
       "    </tr>\n",
       "    <tr>\n",
       "      <th>3models</th>\n",
       "      <td>0.234764</td>\n",
       "      <td>0</td>\n",
       "      <td>0.00447587</td>\n",
       "      <td>0</td>\n",
       "      <td>0.744357</td>\n",
       "      <td>0.016403</td>\n",
       "      <td>0</td>\n",
       "      <td>3</td>\n",
       "    </tr>\n",
       "    <tr>\n",
       "      <th>4models</th>\n",
       "      <td>0.222733</td>\n",
       "      <td>0.000112882</td>\n",
       "      <td>0.00756313</td>\n",
       "      <td>5.33401e-05</td>\n",
       "      <td>0.636588</td>\n",
       "      <td>0.110067</td>\n",
       "      <td>0.0228829</td>\n",
       "      <td>4</td>\n",
       "    </tr>\n",
       "    <tr>\n",
       "      <th>5models</th>\n",
       "      <td>0.177572</td>\n",
       "      <td>0.000554067</td>\n",
       "      <td>0.00813982</td>\n",
       "      <td>0.000279286</td>\n",
       "      <td>0.45979</td>\n",
       "      <td>0.195036</td>\n",
       "      <td>0.15863</td>\n",
       "      <td>5</td>\n",
       "    </tr>\n",
       "    <tr>\n",
       "      <th>6models</th>\n",
       "      <td>0.134458</td>\n",
       "      <td>0.0011934</td>\n",
       "      <td>0.00787776</td>\n",
       "      <td>0.000677152</td>\n",
       "      <td>0.303565</td>\n",
       "      <td>0.202911</td>\n",
       "      <td>0.349317</td>\n",
       "      <td>6</td>\n",
       "    </tr>\n",
       "  </tbody>\n",
       "</table>\n",
       "</div>"
      ],
      "text/plain": [
       "        grdsr_ams    grdmr_ams   gissr_ams    gismr_ams acvmfu_ams gmfsr_ams  \\\n",
       "2models         0            0           0            0          1         0   \n",
       "3models  0.234764            0  0.00447587            0   0.744357  0.016403   \n",
       "4models  0.222733  0.000112882  0.00756313  5.33401e-05   0.636588  0.110067   \n",
       "5models  0.177572  0.000554067  0.00813982  0.000279286    0.45979  0.195036   \n",
       "6models  0.134458    0.0011934  0.00787776  0.000677152   0.303565  0.202911   \n",
       "\n",
       "         gmfmr_ams Models  \n",
       "2models          0      2  \n",
       "3models          0      3  \n",
       "4models  0.0228829      4  \n",
       "5models    0.15863      5  \n",
       "6models   0.349317      6  "
      ]
     },
     "execution_count": 430,
     "metadata": {},
     "output_type": "execute_result"
    }
   ],
   "source": [
    "new_header = ams_pacv_freq_df.iloc[0]\n",
    "ams_pacv_freq_df = ams_pacv_freq_df[1:]\n",
    "ams_pacv_freq_df.columns = new_header\n",
    "ams_pacv_freq_df.columns = ['grdsr_ams', 'grdmr_ams', 'gissr_ams','gismr_ams','acvmfu_ams',\n",
    "                            'gmfsr_ams', 'gmfmr_ams', 'Models']\n",
    "\n",
    "ams_pacv_freq_df"
   ]
  },
  {
   "cell_type": "code",
   "execution_count": 431,
   "metadata": {},
   "outputs": [
    {
     "data": {
      "image/png": "[encoded data removed]",
      "text/plain": [
       "<Figure size 648x576 with 1 Axes>"
      ]
     },
     "metadata": {},
     "output_type": "display_data"
    }
   ],
   "source": [
    "plt.figure(figsize=(9,8))\n",
    "plt.plot(ams_pacv_freq_df.Models, ams_pacv_freq_df.grdsr_ams, color='red')\n",
    "plt.plot(ams_pacv_freq_df.Models, ams_pacv_freq_df.grdmr_ams, color='red', linestyle=\"dashed\")\n",
    "plt.plot(ams_pacv_freq_df.Models, ams_pacv_freq_df.gissr_ams, color='blue', linestyle=\"solid\")\n",
    "plt.plot(ams_pacv_freq_df.Models, ams_pacv_freq_df.gismr_ams, color='blue', linestyle=\"dashed\")\n",
    "plt.plot(ams_pacv_freq_df.Models, ams_pacv_freq_df.acvmfu_ams, color='green', linestyle=\"solid\")\n",
    "plt.plot(ams_pacv_freq_df.Models, ams_pacv_freq_df.gmfsr_ams, color='green', linestyle=\"dashdot\")\n",
    "plt.plot(ams_pacv_freq_df.Models, ams_pacv_freq_df.gmfmr_ams, color='green', linestyle=\"dashed\")\n",
    "plt.xticks([2,3,4,5,6], fontsize=18)\n",
    "plt.yticks(fontsize=18)\n",
    "plt.title(\"% Of Model Scenarios Where a P-ACV AMS Algorithm Performs Best Based on Model Number\", fontsize = 14)\n",
    "plt.xlabel('Number of Models',fontsize=18); plt.ylabel('Percentage of Model Scenarios Where Best', fontsize=17)\n",
    "plt.legend(['GRSDR (Recursive)', 'GRDMR (Recursive)', 'GISSR (Ind. Sample)','GISMR (Ind. Sample)','ACVMFU (Multifidel)', 'GMFSR(Multifidel)', 'GMFMR(Multifidel)'], fontsize=14)\n",
    "plt.show()"
   ]
  },
  {
   "cell_type": "code",
   "execution_count": null,
   "metadata": {},
   "outputs": [],
   "source": []
  },
  {
   "cell_type": "code",
   "execution_count": 468,
   "metadata": {},
   "outputs": [],
   "source": [
    "for i in range(0, len(models_6)):\n",
    "    if models_6.grdmr[i] == models_6.acvmfu[i]:\n",
    "        print(\"Same\")"
   ]
  },
  {
   "cell_type": "code",
   "execution_count": 461,
   "metadata": {},
   "outputs": [
    {
     "data": {
      "text/plain": [
       "gmfmr ams     0.325312\n",
       "acvmfu ams    0.282705\n",
       "gmfsr ams     0.188967\n",
       "grdsr ams     0.125219\n",
       "acvis ams     0.027329\n",
       "acvmf ams     0.024407\n",
       "gissr ams     0.007336\n",
       "mlmc ams      0.006899\n",
       "wrdiff ams    0.005176\n",
       "mfmc ams      0.002985\n",
       "acvkl ams     0.001923\n",
       "grdmr ams     0.001111\n",
       "gismr ams     0.000631\n",
       "dtype: float64"
      ]
     },
     "execution_count": 461,
     "metadata": {},
     "output_type": "execute_result"
    }
   ],
   "source": [
    "current_df6.idxmin(axis=1).value_counts(normalize=True)"
   ]
  },
  {
   "cell_type": "code",
   "execution_count": null,
   "metadata": {},
   "outputs": [],
   "source": []
  },
  {
   "cell_type": "code",
   "execution_count": null,
   "metadata": {},
   "outputs": [],
   "source": []
  }
 ],
 "metadata": {
  "kernelspec": {
   "display_name": "Python 3",
   "language": "python",
   "name": "python3"
  },
  "language_info": {
   "codemirror_mode": {
    "name": "ipython",
    "version": 3
   },
   "file_extension": ".py",
   "mimetype": "text/x-python",
   "name": "python",
   "nbconvert_exporter": "python",
   "pygments_lexer": "ipython3",
   "version": "3.6.8"
  }
 },
 "nbformat": 4,
 "nbformat_minor": 2
}
